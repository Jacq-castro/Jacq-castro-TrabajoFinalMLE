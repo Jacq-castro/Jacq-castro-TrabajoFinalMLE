{
 "cells": [
  {
   "cell_type": "markdown",
   "metadata": {
    "id": "cnEHfwE3dBJq"
   },
   "source": [
    "# Trabajo Final\n",
    "## Notebook del Curso: Métodos supervisados\n",
    "### Alumna: Jacqueline Elizabeth Castro Falcon"
   ]
  },
  {
   "cell_type": "markdown",
   "metadata": {},
   "source": [
    "### SCRIPT  1 VISUALIZACIÓN"
   ]
  },
  {
   "cell_type": "markdown",
   "metadata": {},
   "source": [
    "#### Instalación de librerias"
   ]
  },
  {
   "cell_type": "code",
   "execution_count": 2,
   "metadata": {
    "collapsed": true
   },
   "outputs": [
    {
     "name": "stdout",
     "output_type": "stream",
     "text": [
      "Requirement already satisfied: numpy in c:\\users\\vdiaz\\miniconda3\\envs\\myenv\\lib\\site-packages (1.22.3)\n",
      "Requirement already satisfied: matplotlib in c:\\users\\vdiaz\\miniconda3\\envs\\myenv\\lib\\site-packages (3.5.2)\n",
      "Requirement already satisfied: fonttools>=4.22.0 in c:\\users\\vdiaz\\miniconda3\\envs\\myenv\\lib\\site-packages (from matplotlib) (4.34.4)\n",
      "Requirement already satisfied: numpy>=1.17 in c:\\users\\vdiaz\\miniconda3\\envs\\myenv\\lib\\site-packages (from matplotlib) (1.22.3)\n",
      "Requirement already satisfied: packaging>=20.0 in c:\\users\\vdiaz\\miniconda3\\envs\\myenv\\lib\\site-packages (from matplotlib) (21.3)\n",
      "Requirement already satisfied: kiwisolver>=1.0.1 in c:\\users\\vdiaz\\miniconda3\\envs\\myenv\\lib\\site-packages (from matplotlib) (1.4.4)\n",
      "Requirement already satisfied: pyparsing>=2.2.1 in c:\\users\\vdiaz\\miniconda3\\envs\\myenv\\lib\\site-packages (from matplotlib) (3.0.4)\n",
      "Requirement already satisfied: pillow>=6.2.0 in c:\\users\\vdiaz\\miniconda3\\envs\\myenv\\lib\\site-packages (from matplotlib) (9.2.0)\n",
      "Requirement already satisfied: cycler>=0.10 in c:\\users\\vdiaz\\miniconda3\\envs\\myenv\\lib\\site-packages (from matplotlib) (0.11.0)\n",
      "Requirement already satisfied: python-dateutil>=2.7 in c:\\users\\vdiaz\\miniconda3\\envs\\myenv\\lib\\site-packages (from matplotlib) (2.8.2)\n",
      "Requirement already satisfied: six>=1.5 in c:\\users\\vdiaz\\miniconda3\\envs\\myenv\\lib\\site-packages (from python-dateutil>=2.7->matplotlib) (1.16.0)\n",
      "Requirement already satisfied: seaborn in c:\\users\\vdiaz\\miniconda3\\envs\\myenv\\lib\\site-packages (0.11.2)\n",
      "Requirement already satisfied: numpy>=1.15 in c:\\users\\vdiaz\\miniconda3\\envs\\myenv\\lib\\site-packages (from seaborn) (1.22.3)\n",
      "Requirement already satisfied: scipy>=1.0 in c:\\users\\vdiaz\\miniconda3\\envs\\myenv\\lib\\site-packages (from seaborn) (1.8.1)\n",
      "Requirement already satisfied: pandas>=0.23 in c:\\users\\vdiaz\\miniconda3\\envs\\myenv\\lib\\site-packages (from seaborn) (1.4.3)\n",
      "Requirement already satisfied: matplotlib>=2.2 in c:\\users\\vdiaz\\miniconda3\\envs\\myenv\\lib\\site-packages (from seaborn) (3.5.2)\n",
      "Requirement already satisfied: pyparsing>=2.2.1 in c:\\users\\vdiaz\\miniconda3\\envs\\myenv\\lib\\site-packages (from matplotlib>=2.2->seaborn) (3.0.4)\n",
      "Requirement already satisfied: cycler>=0.10 in c:\\users\\vdiaz\\miniconda3\\envs\\myenv\\lib\\site-packages (from matplotlib>=2.2->seaborn) (0.11.0)\n",
      "Requirement already satisfied: fonttools>=4.22.0 in c:\\users\\vdiaz\\miniconda3\\envs\\myenv\\lib\\site-packages (from matplotlib>=2.2->seaborn) (4.34.4)\n",
      "Requirement already satisfied: python-dateutil>=2.7 in c:\\users\\vdiaz\\miniconda3\\envs\\myenv\\lib\\site-packages (from matplotlib>=2.2->seaborn) (2.8.2)\n",
      "Requirement already satisfied: pillow>=6.2.0 in c:\\users\\vdiaz\\miniconda3\\envs\\myenv\\lib\\site-packages (from matplotlib>=2.2->seaborn) (9.2.0)\n",
      "Requirement already satisfied: packaging>=20.0 in c:\\users\\vdiaz\\miniconda3\\envs\\myenv\\lib\\site-packages (from matplotlib>=2.2->seaborn) (21.3)\n",
      "Requirement already satisfied: kiwisolver>=1.0.1 in c:\\users\\vdiaz\\miniconda3\\envs\\myenv\\lib\\site-packages (from matplotlib>=2.2->seaborn) (1.4.4)\n",
      "Requirement already satisfied: pytz>=2020.1 in c:\\users\\vdiaz\\miniconda3\\envs\\myenv\\lib\\site-packages (from pandas>=0.23->seaborn) (2022.1)\n",
      "Requirement already satisfied: six>=1.5 in c:\\users\\vdiaz\\miniconda3\\envs\\myenv\\lib\\site-packages (from python-dateutil>=2.7->matplotlib>=2.2->seaborn) (1.16.0)\n"
     ]
    }
   ],
   "source": [
    "!pip install numpy\n",
    "!pip install matplotlib\n",
    "!pip install seaborn\n"
   ]
  },
  {
   "cell_type": "code",
   "execution_count": 3,
   "metadata": {},
   "outputs": [],
   "source": [
    "import pickle"
   ]
  },
  {
   "cell_type": "code",
   "execution_count": 4,
   "metadata": {},
   "outputs": [],
   "source": [
    "import numpy as np\n",
    "import pandas as pd\n",
    "##import seaborn as sns\n",
    "\n",
    "from sklearn.ensemble import IsolationForest\n",
    "from sklearn.neighbors import LocalOutlierFactor\n",
    "\n",
    "# Preprocesar label\n",
    "from sklearn import preprocessing\n",
    "# Estandarizamos los datos\n",
    "from sklearn.preprocessing import StandardScaler\n",
    "# Normalizando los datos\n",
    "from sklearn.preprocessing import MinMaxScaler"
   ]
  },
  {
   "cell_type": "code",
   "execution_count": 5,
   "metadata": {
    "collapsed": true
   },
   "outputs": [
    {
     "name": "stdout",
     "output_type": "stream",
     "text": [
      "Requirement already satisfied: openpyxl in c:\\users\\vdiaz\\miniconda3\\lib\\site-packages (3.0.10)\n",
      "Requirement already satisfied: et-xmlfile in c:\\users\\vdiaz\\miniconda3\\lib\\site-packages (from openpyxl) (1.1.0)\n",
      "Note: you may need to restart the kernel to use updated packages.\n"
     ]
    }
   ],
   "source": [
    "pip install openpyxl"
   ]
  },
  {
   "cell_type": "code",
   "execution_count": null,
   "metadata": {
    "colab": {
     "base_uri": "https://localhost:8080/"
    },
    "executionInfo": {
     "elapsed": 3338,
     "status": "ok",
     "timestamp": 1648447936585,
     "user": {
      "displayName": "Jacqueline Elizabeth Castro Falcon",
      "photoUrl": "https://lh3.googleusercontent.com/a/default-user=s64",
      "userId": "17847060216481912400"
     },
     "user_tz": 300
    },
    "id": "XeIyaNxS9XYJ",
    "outputId": "0df2893b-1972-4820-b10a-b685534e2ad1"
   },
   "outputs": [],
   "source": [
    "import sklearn.neighbors._base\n",
    "import sys\n",
    "sys.modules['sklearn.neighbors.base'] = sklearn.neighbors._base"
   ]
  },
  {
   "cell_type": "code",
   "execution_count": null,
   "metadata": {
    "executionInfo": {
     "elapsed": 9,
     "status": "ok",
     "timestamp": 1648447936586,
     "user": {
      "displayName": "Jacqueline Elizabeth Castro Falcon",
      "photoUrl": "https://lh3.googleusercontent.com/a/default-user=s64",
      "userId": "17847060216481912400"
     },
     "user_tz": 300
    },
    "id": "LUNgqilpfj8W"
   },
   "outputs": [],
   "source": [
    "import numpy as np\n",
    "import matplotlib.pyplot as plt\n",
    "import pandas as pd\n",
    "# visualization\n",
    "import seaborn as sns\n",
    "import matplotlib.pyplot as plt\n",
    "import warnings\n",
    "warnings.filterwarnings('ignore')\n",
    "\n",
    "## Modelos de regresion\n",
    "from sklearn import model_selection\n",
    "from sklearn.linear_model import LinearRegression\n",
    "from sklearn.linear_model import Ridge\n",
    "from sklearn.linear_model import Lasso\n",
    "from sklearn.linear_model import ElasticNet\n",
    "import statsmodels.api as sm           \n",
    "import statsmodels.formula.api as smf  \n",
    "\n",
    "#Metricas de evaluación\n",
    "from sklearn.metrics import mean_squared_error\n",
    "from sklearn import metrics\n",
    "from sklearn.metrics import r2_score\n",
    "\n",
    "#separar train and test\n",
    "from sklearn.model_selection import train_test_split\n",
    "\n",
    "## modelos que usamos para imputar\n",
    "from sklearn import linear_model\n",
    "from collections import Counter\n",
    "from sklearn.ensemble import IsolationForest\n",
    "from missingpy import MissForest\n",
    "from sklearn.neighbors import LocalOutlierFactor\n",
    "from mpl_toolkits.mplot3d import Axes3D\n",
    "\n",
    "# Preprocesar label\n",
    "from sklearn import preprocessing\n",
    "# Estandarizamos los datos\n",
    "from sklearn.preprocessing import StandardScaler\n",
    "# Normalizando los datos\n",
    "from sklearn.preprocessing import MinMaxScaler"
   ]
  },
  {
   "cell_type": "markdown",
   "metadata": {
    "id": "ijKkNVOWdMpe"
   },
   "source": [
    "### Pregunta 1: Definir el problema y objetivos de negocio:\n",
    "\n",
    "#### El objetivo final y que entrega valor al negocio es:\n",
    "#### Mejorar los niveles de aceptacion y efectividad de las campañas, enfocandolas de forma más efectiva a los clientes.\n",
    "\n",
    "#### Para esto:\n",
    "#### Se quiere detectar si una prediccion correcta del ingreso de las personas ayudará a mejorar esto niveles de aceptación, por lo que se iniciará generando un modelo de machine learning para la predicción de sueldos de los clientes. "
   ]
  },
  {
   "cell_type": "code",
   "execution_count": 6,
   "metadata": {
    "executionInfo": {
     "elapsed": 446,
     "status": "ok",
     "timestamp": 1648447937025,
     "user": {
      "displayName": "Jacqueline Elizabeth Castro Falcon",
      "photoUrl": "https://lh3.googleusercontent.com/a/default-user=s64",
      "userId": "17847060216481912400"
     },
     "user_tz": 300
    },
    "id": "XgrgCBHqftuX"
   },
   "outputs": [],
   "source": [
    "# Importando el data set\n",
    "dataset = pd.read_excel(io = \"../data/raw/rawdata-DataInferenciaIngresos.xlsx\", sheet_name = \"demomodifmodern2\", header = 0)\n"
   ]
  },
  {
   "cell_type": "markdown",
   "metadata": {
    "id": "47oZS2xSfOEY"
   },
   "source": [
    "### Pregunta 2: ¿Qué tipo de variables se utilizan en el problema de negocio?\n",
    "\n",
    "\n",
    "**Respuesta:**\n",
    "\n",
    " **Se observa a continuación que contamos con variables númericas y float sin nulls, donde la variable objetivo o target se llama \"ingres\".**\n",
    " \n",
    " **Debido al tipo de variable del tarjet para la predicción se utilizará un método de regresión.**"
   ]
  },
  {
   "cell_type": "code",
   "execution_count": 7,
   "metadata": {
    "colab": {
     "base_uri": "https://localhost:8080/"
    },
    "executionInfo": {
     "elapsed": 322,
     "status": "ok",
     "timestamp": 1648447937337,
     "user": {
      "displayName": "Jacqueline Elizabeth Castro Falcon",
      "photoUrl": "https://lh3.googleusercontent.com/a/default-user=s64",
      "userId": "17847060216481912400"
     },
     "user_tz": 300
    },
    "id": "xY7hPJJshwgZ",
    "outputId": "20f39600-1a9a-4bbf-c0d9-4c22688e014d"
   },
   "outputs": [
    {
     "name": "stdout",
     "output_type": "stream",
     "text": [
      "<class 'pandas.core.frame.DataFrame'>\n",
      "RangeIndex: 6400 entries, 0 to 6399\n",
      "Data columns (total 6 columns):\n",
      " #   Column          Non-Null Count  Dtype  \n",
      "---  ------          --------------  -----  \n",
      " 0   edad            6400 non-null   int64  \n",
      " 1   AniosDireccion  6400 non-null   int64  \n",
      " 2   Gastocoche      6400 non-null   float64\n",
      " 3   Aniosempleo     6400 non-null   int64  \n",
      " 4   Aniosresiden    6400 non-null   int64  \n",
      " 5   ingres          6400 non-null   int64  \n",
      "dtypes: float64(1), int64(5)\n",
      "memory usage: 300.1 KB\n"
     ]
    }
   ],
   "source": [
    "# Type of variables and dataset information.\n",
    "dataset.info()"
   ]
  },
  {
   "cell_type": "markdown",
   "metadata": {
    "id": "I7bGZPlVjp4d"
   },
   "source": [
    "### Pregunta 3: Hacer un resumen global del total de variables de estudio principalmente a nivel univariado, entendiendo globalmente la problemática en la cual estoy inmerso\n",
    "\n",
    "\n",
    "**Respuesta:**\n",
    "\n",
    " **Se realiza histogramas de cada variable, notamos que la variable target se encuentra sesgada a la derecha, mientras que la variable \"edad\" podría asemejarse a una distribución normal**\n"
   ]
  },
  {
   "cell_type": "code",
   "execution_count": null,
   "metadata": {
    "colab": {
     "base_uri": "https://localhost:8080/",
     "height": 368
    },
    "executionInfo": {
     "elapsed": 604,
     "status": "ok",
     "timestamp": 1648447937938,
     "user": {
      "displayName": "Jacqueline Elizabeth Castro Falcon",
      "photoUrl": "https://lh3.googleusercontent.com/a/default-user=s64",
      "userId": "17847060216481912400"
     },
     "user_tz": 300
    },
    "id": "DmHLi9L2rWLj",
    "outputId": "95034801-10ba-4643-ce62-3cabbba5c7b5"
   },
   "outputs": [],
   "source": [
    "# Histogramas de Variable Target Ingres\n",
    "\n",
    "fig, (ax1)= plt.subplots(1,1,figsize=(7,5))\n",
    "sns.distplot((dataset['ingres']), ax = ax1, color = 'grey')\n",
    "plt.ylabel('Frecuencia')\n",
    "plt.xlabel('ingres')\n",
    "plt.axvline((dataset['ingres']).median(), color='red', label = 'Mediana')\n",
    "plt.axvline((dataset['ingres']).mean(), color='blue', label = 'Media')\n",
    "plt.legend(loc = \"upper left\", bbox_to_anchor=(1.0, 1.05), shadow=True)"
   ]
  },
  {
   "cell_type": "code",
   "execution_count": null,
   "metadata": {
    "colab": {
     "base_uri": "https://localhost:8080/",
     "height": 368
    },
    "executionInfo": {
     "elapsed": 464,
     "status": "ok",
     "timestamp": 1648447938395,
     "user": {
      "displayName": "Jacqueline Elizabeth Castro Falcon",
      "photoUrl": "https://lh3.googleusercontent.com/a/default-user=s64",
      "userId": "17847060216481912400"
     },
     "user_tz": 300
    },
    "id": "kyBYB6E3qe5m",
    "outputId": "58540d86-dec6-43b4-f1a8-f30c0d06c7b5"
   },
   "outputs": [],
   "source": [
    "# Histogramas de Variable Independiente 'edad'\n",
    "\n",
    "fig, (ax1)= plt.subplots(1,1,figsize=(7,5))\n",
    "sns.distplot(dataset['edad'], ax = ax1, color = 'grey')\n",
    "plt.ylabel('Frecuencia')\n",
    "plt.xlabel('edad')\n",
    "plt.axvline(dataset['edad'].median(), color='red', label = 'Mediana')\n",
    "plt.axvline(dataset['edad'].mean(), color='blue', label = 'Media')\n",
    "plt.legend(loc = \"upper left\", bbox_to_anchor=(1.0, 1.05), shadow=True)"
   ]
  },
  {
   "cell_type": "code",
   "execution_count": null,
   "metadata": {
    "colab": {
     "base_uri": "https://localhost:8080/",
     "height": 368
    },
    "executionInfo": {
     "elapsed": 664,
     "status": "ok",
     "timestamp": 1648447939055,
     "user": {
      "displayName": "Jacqueline Elizabeth Castro Falcon",
      "photoUrl": "https://lh3.googleusercontent.com/a/default-user=s64",
      "userId": "17847060216481912400"
     },
     "user_tz": 300
    },
    "id": "fsIfdjnJqfZV",
    "outputId": "a20f551b-92cf-48af-93ff-d83973f8483e"
   },
   "outputs": [],
   "source": [
    "# Histogramas de Variable Independiente AniosDireccion\n",
    "\n",
    "fig, (ax1)= plt.subplots(1,1,figsize=(7,5))\n",
    "sns.distplot(dataset['AniosDireccion'], ax = ax1, color = 'grey')\n",
    "plt.ylabel('Frecuencia')\n",
    "plt.xlabel('AniosDireccion')\n",
    "plt.axvline(dataset['AniosDireccion'].median(), color='red', label = 'Mediana')\n",
    "plt.axvline(dataset['AniosDireccion'].mean(), color='blue', label = 'Media')\n",
    "plt.legend(loc = \"upper left\", bbox_to_anchor=(1.0, 1.05), shadow=True)"
   ]
  },
  {
   "cell_type": "code",
   "execution_count": null,
   "metadata": {
    "colab": {
     "base_uri": "https://localhost:8080/",
     "height": 368
    },
    "executionInfo": {
     "elapsed": 789,
     "status": "ok",
     "timestamp": 1648447939837,
     "user": {
      "displayName": "Jacqueline Elizabeth Castro Falcon",
      "photoUrl": "https://lh3.googleusercontent.com/a/default-user=s64",
      "userId": "17847060216481912400"
     },
     "user_tz": 300
    },
    "id": "4rKtOfB8qfp6",
    "outputId": "ae6a6648-71cc-457a-9ad7-13a196018b6d"
   },
   "outputs": [],
   "source": [
    "# Histogramas de Variable Independiente Gastocoche\n",
    "\n",
    "fig, (ax1)= plt.subplots(1,1,figsize=(7,5))\n",
    "sns.distplot(dataset['Gastocoche'], ax = ax1, color = 'grey')\n",
    "plt.ylabel('Frecuencia')\n",
    "plt.xlabel('Gastocoche')\n",
    "plt.axvline(dataset['Gastocoche'].median(), color='red', label = 'Mediana')\n",
    "plt.axvline(dataset['Gastocoche'].mean(), color='blue', label = 'Media')\n",
    "plt.legend(loc = \"upper left\", bbox_to_anchor=(1.0, 1.05), shadow=True)"
   ]
  },
  {
   "cell_type": "code",
   "execution_count": null,
   "metadata": {
    "colab": {
     "base_uri": "https://localhost:8080/",
     "height": 368
    },
    "executionInfo": {
     "elapsed": 595,
     "status": "ok",
     "timestamp": 1648447940421,
     "user": {
      "displayName": "Jacqueline Elizabeth Castro Falcon",
      "photoUrl": "https://lh3.googleusercontent.com/a/default-user=s64",
      "userId": "17847060216481912400"
     },
     "user_tz": 300
    },
    "id": "lIFL4J56qfz7",
    "outputId": "bb4460c6-e38b-42d1-bbdf-f20c51ad9eed"
   },
   "outputs": [],
   "source": [
    "# Histogramas de Variable Independiente Aniosempleo\n",
    "\n",
    "fig, (ax1)= plt.subplots(1,1,figsize=(7,5))\n",
    "sns.distplot(dataset['Aniosempleo'], ax = ax1, color = 'grey')\n",
    "plt.ylabel('Frecuencia')\n",
    "plt.xlabel('Aniosempleo')\n",
    "\n",
    "plt.axvline(dataset['Aniosempleo'].median(), color='red', label = 'Mediana')\n",
    "plt.axvline(dataset['Aniosempleo'].mean(), color='blue', label = 'Media')\n",
    "plt.axvline(dataset['Aniosempleo'].mode()[0], color='black', label = 'Moda')\n",
    "\n",
    "plt.legend(loc = \"upper left\", bbox_to_anchor=(1.0, 1.05), shadow=True)"
   ]
  },
  {
   "cell_type": "code",
   "execution_count": null,
   "metadata": {
    "colab": {
     "base_uri": "https://localhost:8080/",
     "height": 368
    },
    "executionInfo": {
     "elapsed": 370,
     "status": "ok",
     "timestamp": 1648447940722,
     "user": {
      "displayName": "Jacqueline Elizabeth Castro Falcon",
      "photoUrl": "https://lh3.googleusercontent.com/a/default-user=s64",
      "userId": "17847060216481912400"
     },
     "user_tz": 300
    },
    "id": "Xdpv2WkjqgAb",
    "outputId": "e26d3c84-3290-4718-84cb-a6a879869b18"
   },
   "outputs": [],
   "source": [
    "# Histogramas de Variable Independiente Aniosresiden\n",
    "\n",
    "fig, (ax1)= plt.subplots(1,1,figsize=(7,5))\n",
    "sns.distplot(dataset['Aniosresiden'], ax = ax1, color = 'grey')\n",
    "plt.ylabel('Frecuencia')\n",
    "plt.xlabel('Aniosresiden')\n",
    "\n",
    "plt.axvline(dataset['Aniosresiden'].median(), color='red', label = 'Mediana')\n",
    "plt.axvline(dataset['Aniosresiden'].mean(), color='blue', label = 'Media')\n",
    "plt.axvline(dataset['Aniosresiden'].mode()[0], color='black', label = 'Moda')\n",
    "\n",
    "plt.legend(loc = \"upper left\", bbox_to_anchor=(1.0, 1.05), shadow=True)"
   ]
  },
  {
   "cell_type": "code",
   "execution_count": null,
   "metadata": {
    "colab": {
     "base_uri": "https://localhost:8080/",
     "height": 300
    },
    "executionInfo": {
     "elapsed": 302,
     "status": "ok",
     "timestamp": 1648447941019,
     "user": {
      "displayName": "Jacqueline Elizabeth Castro Falcon",
      "photoUrl": "https://lh3.googleusercontent.com/a/default-user=s64",
      "userId": "17847060216481912400"
     },
     "user_tz": 300
    },
    "id": "YZdTygdlnO4m",
    "outputId": "0d790b32-06c5-4def-8cb5-274107dc143e"
   },
   "outputs": [],
   "source": [
    "dataset.describe()"
   ]
  },
  {
   "cell_type": "markdown",
   "metadata": {
    "id": "_X6yY4x9r72G"
   },
   "source": [
    "### Pregunta 4: De acuerdo al objetivo de negocio planteado, realizar un análisis de asociación o correlación comentando y documentando sus posibles hallazgos.\n",
    "\n",
    "\n",
    "**Respuesta:**\n",
    "\n",
    " **Vemos que hay una fuerte correlacion entre la variable objetivo y GastoCoche, asi como con la variable Aniosempleo, sin embargo la variable AniosResiden no tiene casi correlación con la variable objetivo, podría darse el caso que dejemos de lado esta variable si no  aporta al modelo.**"
   ]
  },
  {
   "cell_type": "code",
   "execution_count": null,
   "metadata": {
    "colab": {
     "base_uri": "https://localhost:8080/",
     "height": 0
    },
    "executionInfo": {
     "elapsed": 12,
     "status": "ok",
     "timestamp": 1648447941020,
     "user": {
      "displayName": "Jacqueline Elizabeth Castro Falcon",
      "photoUrl": "https://lh3.googleusercontent.com/a/default-user=s64",
      "userId": "17847060216481912400"
     },
     "user_tz": 300
    },
    "id": "6ghheKd2sCjZ",
    "outputId": "a8e288ba-e855-4764-8fa2-82ac81aa5aa4"
   },
   "outputs": [],
   "source": [
    "dataset.corr(method='pearson')"
   ]
  },
  {
   "cell_type": "code",
   "execution_count": null,
   "metadata": {
    "colab": {
     "base_uri": "https://localhost:8080/",
     "height": 0
    },
    "executionInfo": {
     "elapsed": 956,
     "status": "ok",
     "timestamp": 1648447941966,
     "user": {
      "displayName": "Jacqueline Elizabeth Castro Falcon",
      "photoUrl": "https://lh3.googleusercontent.com/a/default-user=s64",
      "userId": "17847060216481912400"
     },
     "user_tz": 300
    },
    "id": "clMSZ-uQzN6U",
    "outputId": "009aafc4-c58e-4fe3-bfa5-d948a8fc6219"
   },
   "outputs": [],
   "source": [
    "sns.set(font_scale=2)\n",
    "corr_matrix = dataset.corr()\n",
    "plt.figure(figsize=(16, 10))\n",
    "ax = sns.heatmap(corr_matrix,annot=True, fmt=\".1f\",cmap=\"YlGnBu\") \n",
    "ax.set_ylim(sorted(ax.get_xlim(), reverse=True))"
   ]
  },
  {
   "cell_type": "markdown",
   "metadata": {
    "id": "GJiOYjOb0Va_"
   },
   "source": [
    "### Pregunta 5: Realizar un análisis de detección de posibles valores atípicos en las principales variables. Si es que detecta estos posibles valores atípicos, ¿Crees que sería más adecuado retirar esos registros atípicos, o retirar las variables que tengan más valores atípicos? \n",
    "\n",
    "\n",
    "**Respuesta:**\n",
    "\n"
   ]
  },
  {
   "cell_type": "code",
   "execution_count": 8,
   "metadata": {
    "executionInfo": {
     "elapsed": 13,
     "status": "ok",
     "timestamp": 1648447941967,
     "user": {
      "displayName": "Jacqueline Elizabeth Castro Falcon",
      "photoUrl": "https://lh3.googleusercontent.com/a/default-user=s64",
      "userId": "17847060216481912400"
     },
     "user_tz": 300
    },
    "id": "GhRbA0lzRJi8"
   },
   "outputs": [],
   "source": [
    "X = dataset.drop(['ingres'], axis=1)\n",
    "y = dataset[['ingres']]\n",
    "\n",
    "from sklearn.model_selection import train_test_split\n",
    "X_train, X_test, y_train, y_test = train_test_split(X, y, test_size=0.2, random_state=101)\n"
   ]
  },
  {
   "cell_type": "code",
   "execution_count": 9,
   "metadata": {
    "colab": {
     "base_uri": "https://localhost:8080/"
    },
    "executionInfo": {
     "elapsed": 12,
     "status": "ok",
     "timestamp": 1648447941967,
     "user": {
      "displayName": "Jacqueline Elizabeth Castro Falcon",
      "photoUrl": "https://lh3.googleusercontent.com/a/default-user=s64",
      "userId": "17847060216481912400"
     },
     "user_tz": 300
    },
    "id": "9kkagLs9Rtu8",
    "outputId": "e3d1b157-cbf3-4117-a798-82aeadef5dd3"
   },
   "outputs": [
    {
     "name": "stdout",
     "output_type": "stream",
     "text": [
      "<class 'pandas.core.frame.DataFrame'>\n",
      "Int64Index: 5120 entries, 4172 to 4959\n",
      "Data columns (total 6 columns):\n",
      " #   Column          Non-Null Count  Dtype  \n",
      "---  ------          --------------  -----  \n",
      " 0   edad            5120 non-null   int64  \n",
      " 1   AniosDireccion  5120 non-null   int64  \n",
      " 2   Gastocoche      5120 non-null   float64\n",
      " 3   Aniosempleo     5120 non-null   int64  \n",
      " 4   Aniosresiden    5120 non-null   int64  \n",
      " 5   ingres          5120 non-null   int64  \n",
      "dtypes: float64(1), int64(5)\n",
      "memory usage: 280.0 KB\n"
     ]
    }
   ],
   "source": [
    "dataset1 = X_train\n",
    "dataset1['ingres']=y_train['ingres']\n",
    "dataset1.info()"
   ]
  },
  {
   "cell_type": "code",
   "execution_count": 10,
   "metadata": {
    "executionInfo": {
     "elapsed": 8,
     "status": "ok",
     "timestamp": 1648447941968,
     "user": {
      "displayName": "Jacqueline Elizabeth Castro Falcon",
      "photoUrl": "https://lh3.googleusercontent.com/a/default-user=s64",
      "userId": "17847060216481912400"
     },
     "user_tz": 300
    },
    "id": "_iykylc81dbm"
   },
   "outputs": [],
   "source": [
    "#Métodos de detección de valores atípicos multivariante\n",
    "\n",
    "#Se utilizará las variables\n",
    "cols = ['ingres','Gastocoche','Aniosempleo']"
   ]
  },
  {
   "cell_type": "code",
   "execution_count": 11,
   "metadata": {
    "colab": {
     "base_uri": "https://localhost:8080/",
     "height": 0
    },
    "executionInfo": {
     "elapsed": 1702,
     "status": "ok",
     "timestamp": 1648447943662,
     "user": {
      "displayName": "Jacqueline Elizabeth Castro Falcon",
      "photoUrl": "https://lh3.googleusercontent.com/a/default-user=s64",
      "userId": "17847060216481912400"
     },
     "user_tz": 300
    },
    "id": "rs1KrrBN9J9F",
    "outputId": "d71dac5b-186b-4972-f5c7-59d12ea244d5"
   },
   "outputs": [
    {
     "name": "stderr",
     "output_type": "stream",
     "text": [
      "C:\\Users\\vdiaz\\miniconda3\\lib\\site-packages\\sklearn\\base.py:450: UserWarning: X does not have valid feature names, but IsolationForest was fitted with feature names\n",
      "  warnings.warn(\n"
     ]
    },
    {
     "name": "stdout",
     "output_type": "stream",
     "text": [
      " 1    5068\n",
      "-1      52\n",
      "Name: anomaly, dtype: int64\n"
     ]
    },
    {
     "data": {
      "text/plain": [
       "\"## Grafico de outliers\\nsns.set(font_scale=1.2)\\nplt.rcParams['figure.figsize'] = (18, 9)\\nfig = plt.figure()\\nax = Axes3D(fig)\\nax.scatter(dataset1[cols].iloc[:,0].values, dataset1[cols].iloc[:,1].values,dataset1[cols].iloc[:,2].values,cmap='rainbow')\\nax.scatter(outliers_if[cols].iloc[:,0].values,outliers_if[cols].iloc[:,1].values,outliers_if[cols].iloc[:,2].values,cmap='rainbow')\\nax.set_title('ISOLATION FOREST')\\nax.set_xlabel('ingres')\\nax.set_ylabel('Gastocoche')\\nax.set_zlabel('Aniosempleo')\""
      ]
     },
     "execution_count": 11,
     "metadata": {},
     "output_type": "execute_result"
    }
   ],
   "source": [
    "#Isolation Forests\n",
    "\n",
    "clf=IsolationForest(n_estimators=100, max_samples='auto', contamination=0.01, \\\n",
    "                        max_features=3, bootstrap=False, n_jobs=-1, random_state=42, verbose=0)\n",
    "clf.fit(dataset1[cols])\n",
    "pred = clf.predict(dataset1[cols])\n",
    "dataset1['anomaly']=pred\n",
    "outliers_if=dataset1.loc[dataset1['anomaly']==-1]\n",
    "outlier_if_index=list(outliers_if.index)\n",
    "#print(outlier_index)\n",
    "print(dataset1['anomaly'].value_counts())\n",
    "\n",
    "\n",
    "\n",
    "\"\"\"## Grafico de outliers\n",
    "sns.set(font_scale=1.2)\n",
    "plt.rcParams['figure.figsize'] = (18, 9)\n",
    "fig = plt.figure()\n",
    "ax = Axes3D(fig)\n",
    "ax.scatter(dataset1[cols].iloc[:,0].values, dataset1[cols].iloc[:,1].values,dataset1[cols].iloc[:,2].values,cmap='rainbow')\n",
    "ax.scatter(outliers_if[cols].iloc[:,0].values,outliers_if[cols].iloc[:,1].values,outliers_if[cols].iloc[:,2].values,cmap='rainbow')\n",
    "ax.set_title('ISOLATION FOREST')\n",
    "ax.set_xlabel('ingres')\n",
    "ax.set_ylabel('Gastocoche')\n",
    "ax.set_zlabel('Aniosempleo')\"\"\""
   ]
  },
  {
   "cell_type": "code",
   "execution_count": null,
   "metadata": {
    "colab": {
     "base_uri": "https://localhost:8080/",
     "height": 0
    },
    "executionInfo": {
     "elapsed": 612,
     "status": "ok",
     "timestamp": 1648447944267,
     "user": {
      "displayName": "Jacqueline Elizabeth Castro Falcon",
      "photoUrl": "https://lh3.googleusercontent.com/a/default-user=s64",
      "userId": "17847060216481912400"
     },
     "user_tz": 300
    },
    "id": "_Qf-y6ZD-b2h",
    "outputId": "32b338f5-526e-4d55-8052-605d6200d680"
   },
   "outputs": [],
   "source": [
    "scaler = MinMaxScaler(feature_range=(0, 1))\n",
    "scaler = scaler.fit(dataset1[cols])\n",
    "normalized = scaler.transform(dataset1[cols])\n",
    "normalized1 = pd.DataFrame(normalized,columns=list(dataset1[cols].columns))\n",
    "\n",
    "scaler = StandardScaler()\n",
    "scaler = scaler.fit(dataset1[cols])\n",
    "estandarizar = scaler.transform(dataset1[cols])\n",
    "estandarizar = pd.DataFrame(estandarizar,columns=list(dataset1[cols].columns))\n",
    "\n",
    "estandarizar1 = estandarizar.copy()\n",
    "\n",
    "lof = LocalOutlierFactor(n_neighbors=5, contamination=0.01)\n",
    "\n",
    "y_pred_lf = lof.fit_predict(estandarizar1)\n",
    "\n",
    "estandarizar1['anomaly']=y_pred_lf\n",
    "outliers_lf=estandarizar1.loc[estandarizar1['anomaly']==-1]\n",
    "outlier_lf_index=list(outliers_lf.index)\n",
    "\n",
    "print(estandarizar1['anomaly'].value_counts())\n",
    "\n",
    "\"\"\"\n",
    "#Grafico de outliers\n",
    "\n",
    "sns.set(font_scale=1.2)\n",
    "plt.rcParams['figure.figsize'] = (18, 9)\n",
    "fig1 = plt.figure()\n",
    "ax1 = Axes3D(fig1)\n",
    "#ax1.scatter(estandarizar1.iloc[:,0].values, estandarizar1.iloc[:,1].values,estandarizar1.iloc[:,2].values,cmap='rainbow')\n",
    "ax1.scatter(outliers_lf.iloc[:,0].values,outliers_lf.iloc[:,1].values,outliers_lf.iloc[:,2].values,cmap='afmhot')\n",
    "ax1.set_title('LOCAL OULIER FACTOR')\n",
    "ax1.set_xlabel('ingres')\n",
    "ax1.set_ylabel('Gastocoche')\n",
    "ax1.set_zlabel('Aniosempleo')\n",
    "plt.show()\"\"\""
   ]
  },
  {
   "cell_type": "code",
   "execution_count": 12,
   "metadata": {
    "executionInfo": {
     "elapsed": 7,
     "status": "ok",
     "timestamp": 1648447944268,
     "user": {
      "displayName": "Jacqueline Elizabeth Castro Falcon",
      "photoUrl": "https://lh3.googleusercontent.com/a/default-user=s64",
      "userId": "17847060216481912400"
     },
     "user_tz": 300
    },
    "id": "prOjPh0zCwxJ"
   },
   "outputs": [],
   "source": [
    "#Métodos de detección de valores atípicos multivariante\n",
    "\n",
    "#Se utilizará las variables\n",
    "cols = ['ingres','edad','AniosDireccion']"
   ]
  },
  {
   "cell_type": "code",
   "execution_count": 13,
   "metadata": {
    "colab": {
     "base_uri": "https://localhost:8080/",
     "height": 0
    },
    "executionInfo": {
     "elapsed": 2102,
     "status": "ok",
     "timestamp": 1648447946364,
     "user": {
      "displayName": "Jacqueline Elizabeth Castro Falcon",
      "photoUrl": "https://lh3.googleusercontent.com/a/default-user=s64",
      "userId": "17847060216481912400"
     },
     "user_tz": 300
    },
    "id": "jAChy9SsW28o",
    "outputId": "cd4593a5-1284-4579-a7bf-58ffc421c96c"
   },
   "outputs": [
    {
     "name": "stderr",
     "output_type": "stream",
     "text": [
      "C:\\Users\\vdiaz\\miniconda3\\lib\\site-packages\\sklearn\\base.py:450: UserWarning: X does not have valid feature names, but IsolationForest was fitted with feature names\n",
      "  warnings.warn(\n"
     ]
    },
    {
     "name": "stdout",
     "output_type": "stream",
     "text": [
      " 1    4966\n",
      "-1     102\n",
      "Name: anomaly_2, dtype: int64\n"
     ]
    },
    {
     "data": {
      "text/plain": [
       "\"\\n## Grafico de outliers\\nsns.set(font_scale=1.2)\\nplt.rcParams['figure.figsize'] = (18, 9)\\nfig = plt.figure()\\nax = Axes3D(fig)\\nax.scatter(dataset1_filtro1[cols].iloc[:,0].values, dataset1_filtro1[cols].iloc[:,1].values,dataset1_filtro1[cols].iloc[:,2].values,cmap='rainbow')\\nax.scatter(outliers_if[cols].iloc[:,0].values,outliers_if[cols].iloc[:,1].values,outliers_if[cols].iloc[:,2].values,cmap='afmhot')\\nax.set_title('ISOLATION FOREST')\\nax.set_xlabel('ingres')\\nax.set_ylabel('edad')\\nax.set_zlabel('AniosDireccion')\\n\""
      ]
     },
     "execution_count": 13,
     "metadata": {},
     "output_type": "execute_result"
    }
   ],
   "source": [
    "dataset1_filtro1=dataset1.loc[dataset1['anomaly']==1].drop(['anomaly'], axis=1)\n",
    "\n",
    "#Isolation Forests\n",
    "\n",
    "clf=IsolationForest(n_estimators=100, max_samples='auto', contamination=0.02, \\\n",
    "                        max_features=3, bootstrap=False, n_jobs=-1, random_state=42, verbose=0)\n",
    "clf.fit(dataset1_filtro1[cols])\n",
    "pred = clf.predict(dataset1_filtro1[cols])\n",
    "dataset1_filtro1['anomaly_2']=pred\n",
    "outliers_if=dataset1_filtro1.loc[dataset1_filtro1['anomaly_2']==-1]\n",
    "outlier_if_index=list(outliers_if.index)\n",
    "#print(outlier_index)\n",
    "print(dataset1_filtro1['anomaly_2'].value_counts())\n",
    "\n",
    "\"\"\"\n",
    "## Grafico de outliers\n",
    "sns.set(font_scale=1.2)\n",
    "plt.rcParams['figure.figsize'] = (18, 9)\n",
    "fig = plt.figure()\n",
    "ax = Axes3D(fig)\n",
    "ax.scatter(dataset1_filtro1[cols].iloc[:,0].values, dataset1_filtro1[cols].iloc[:,1].values,dataset1_filtro1[cols].iloc[:,2].values,cmap='rainbow')\n",
    "ax.scatter(outliers_if[cols].iloc[:,0].values,outliers_if[cols].iloc[:,1].values,outliers_if[cols].iloc[:,2].values,cmap='afmhot')\n",
    "ax.set_title('ISOLATION FOREST')\n",
    "ax.set_xlabel('ingres')\n",
    "ax.set_ylabel('edad')\n",
    "ax.set_zlabel('AniosDireccion')\n",
    "\"\"\"\n"
   ]
  },
  {
   "cell_type": "code",
   "execution_count": null,
   "metadata": {
    "colab": {
     "base_uri": "https://localhost:8080/",
     "height": 0
    },
    "executionInfo": {
     "elapsed": 1548,
     "status": "ok",
     "timestamp": 1648447947909,
     "user": {
      "displayName": "Jacqueline Elizabeth Castro Falcon",
      "photoUrl": "https://lh3.googleusercontent.com/a/default-user=s64",
      "userId": "17847060216481912400"
     },
     "user_tz": 300
    },
    "id": "Phiej6p0CwxJ",
    "outputId": "2965bda2-3ce4-4f07-a170-8c14d19be8b6"
   },
   "outputs": [],
   "source": [
    "#Isolation Forests\n",
    "\n",
    "clf=IsolationForest(n_estimators=100, max_samples='auto', contamination=0.01, \\\n",
    "                        max_features=3, bootstrap=False, n_jobs=-1, random_state=42, verbose=0)\n",
    "clf.fit(dataset1[cols])\n",
    "pred = clf.predict(dataset1[cols])\n",
    "dataset1['anomaly']=pred\n",
    "outliers_if=dataset1.loc[dataset1['anomaly']==-1]\n",
    "outlier_if_index=list(outliers_if.index)\n",
    "#print(outlier_index)\n",
    "print(dataset1['anomaly'].value_counts())\n",
    "\n",
    "## Grafico de outliers\n",
    "sns.set(font_scale=1.2)\n",
    "plt.rcParams['figure.figsize'] = (18, 9)\n",
    "fig = plt.figure()\n",
    "ax = Axes3D(fig)\n",
    "#ax.scatter(dataset1[cols].iloc[:,0].values, dataset1[cols].iloc[:,1].values,dataset1[cols].iloc[:,2].values,cmap='rainbow')\n",
    "ax.scatter(outliers_if[cols].iloc[:,0].values,outliers_if[cols].iloc[:,1].values,outliers_if[cols].iloc[:,2].values,cmap='afmhot')\n",
    "ax.set_title('ISOLATION FOREST')\n",
    "ax.set_xlabel('ingres')\n",
    "ax.set_ylabel('edad')\n",
    "ax.set_zlabel('AniosDireccion')"
   ]
  },
  {
   "cell_type": "code",
   "execution_count": null,
   "metadata": {
    "colab": {
     "base_uri": "https://localhost:8080/",
     "height": 0
    },
    "executionInfo": {
     "elapsed": 604,
     "status": "ok",
     "timestamp": 1648447948509,
     "user": {
      "displayName": "Jacqueline Elizabeth Castro Falcon",
      "photoUrl": "https://lh3.googleusercontent.com/a/default-user=s64",
      "userId": "17847060216481912400"
     },
     "user_tz": 300
    },
    "id": "s2NklpFED0UI",
    "outputId": "f642a6bc-673e-4dcb-fc57-60bcc5e7d7e4"
   },
   "outputs": [],
   "source": [
    "scaler = StandardScaler()\n",
    "scaler = scaler.fit(dataset1[cols])\n",
    "estandarizar = scaler.transform(dataset1[cols])\n",
    "estandarizar = pd.DataFrame(estandarizar,columns=list(dataset1[cols].columns))\n",
    "estandarizar1 = estandarizar.copy()\n",
    "\n",
    "lof = LocalOutlierFactor(n_neighbors=5, contamination=0.01)\n",
    "\n",
    "y_pred_lf = lof.fit_predict(estandarizar1)\n",
    "\n",
    "estandarizar1['anomaly']=y_pred_lf\n",
    "outliers_lf=estandarizar1.loc[estandarizar1['anomaly']==-1]\n",
    "outlier_lf_index=list(outliers_lf.index)\n",
    "\n",
    "\n",
    "print(estandarizar1['anomaly'].value_counts()) \n",
    "\n",
    "\n",
    "sns.set(font_scale=1.2)\n",
    "plt.rcParams['figure.figsize'] = (18, 9)\n",
    "fig1 = plt.figure()\n",
    "ax1 = Axes3D(fig1)\n",
    "#ax1.scatter(estandarizar1.iloc[:,0].values, estandarizar1.iloc[:,1].values,estandarizar1.iloc[:,2].values,cmap='rainbow')\n",
    "ax1.scatter(outliers_lf.iloc[:,0].values,outliers_lf.iloc[:,1].values,outliers_lf.iloc[:,2].values,cmap='rainbow')\n",
    "ax1.set_title('LOCAL OULIER FACTOR')\n",
    "ax1.set_xlabel('ingres')\n",
    "ax1.set_ylabel('edad')\n",
    "ax1.set_zlabel('AniosDireccion')\n",
    "plt.show()"
   ]
  },
  {
   "cell_type": "markdown",
   "metadata": {
    "id": "o67a-Y05Ips3"
   },
   "source": []
  },
  {
   "cell_type": "code",
   "execution_count": null,
   "metadata": {
    "executionInfo": {
     "elapsed": 6,
     "status": "ok",
     "timestamp": 1648447948510,
     "user": {
      "displayName": "Jacqueline Elizabeth Castro Falcon",
      "photoUrl": "https://lh3.googleusercontent.com/a/default-user=s64",
      "userId": "17847060216481912400"
     },
     "user_tz": 300
    },
    "id": "mkwSHj_wGi8f"
   },
   "outputs": [],
   "source": [
    "cols = ['ingres','Gastocoche','Aniosempleo','edad','AniosDireccion','Aniosresiden']"
   ]
  },
  {
   "cell_type": "code",
   "execution_count": null,
   "metadata": {
    "colab": {
     "base_uri": "https://localhost:8080/",
     "height": 0
    },
    "executionInfo": {
     "elapsed": 5239,
     "status": "ok",
     "timestamp": 1648447953744,
     "user": {
      "displayName": "Jacqueline Elizabeth Castro Falcon",
      "photoUrl": "https://lh3.googleusercontent.com/a/default-user=s64",
      "userId": "17847060216481912400"
     },
     "user_tz": 300
    },
    "id": "z8-7095-JJSk",
    "outputId": "8360ea95-1d3d-410b-abe1-fd843a668933"
   },
   "outputs": [],
   "source": [
    "#Isolation Forests\n",
    "\n",
    "clf=IsolationForest(n_estimators=100, max_samples='auto', contamination=0.01, \\\n",
    "                        max_features=3, bootstrap=False, n_jobs=-1, random_state=42, verbose=0)\n",
    "clf.fit(dataset1[cols])\n",
    "pred = clf.predict(dataset1[cols])\n",
    "dataset1['anomaly_3']=pred\n",
    "outliers_if=dataset1.loc[dataset1['anomaly_3']==-1]\n",
    "outlier_if_index=list(outliers_if.index)\n",
    "#print(outlier_index)\n",
    "print(dataset1['anomaly_3'].value_counts())\n",
    "\n",
    "## Grafico de outliers\n",
    "sns.set(font_scale=1.2)\n",
    "plt.rcParams['figure.figsize'] = (18, 9)\n",
    "fig = plt.figure()\n",
    "ax = Axes3D(fig)\n",
    "ax.scatter(dataset1[cols].iloc[:,0].values, dataset1[cols].iloc[:,1].values,dataset1[cols].iloc[:,2].values,cmap='rainbow')\n",
    "ax.scatter(outliers_if[cols].iloc[:,0].values,outliers_if[cols].iloc[:,1].values,outliers_if[cols].iloc[:,2].values,cmap='rainbow')\n",
    "ax.set_title('ISOLATION FOREST')\n",
    "ax.set_xlabel('ingres')\n",
    "ax.set_ylabel('Gastocoche')\n",
    "ax.set_zlabel('Aniosempleo')\n",
    "\n",
    "## Grafico de outliers\n",
    "sns.set(font_scale=1.2)\n",
    "plt.rcParams['figure.figsize'] = (18, 9)\n",
    "fig = plt.figure()\n",
    "ax = Axes3D(fig)\n",
    "ax.scatter(dataset1[cols].iloc[:,0].values, dataset1[cols].iloc[:,2].values,dataset1[cols].iloc[:,3].values,cmap='rainbow')\n",
    "ax.scatter(outliers_if[cols].iloc[:,0].values,outliers_if[cols].iloc[:,3].values,outliers_if[cols].iloc[:,4].values,cmap='rainbow')\n",
    "ax.set_title('ISOLATION FOREST')\n",
    "ax.set_xlabel('ingres')\n",
    "ax.set_ylabel('edad')\n",
    "ax.set_zlabel('AniosDireccion')\n",
    "\n",
    "## Grafico de outliers\n",
    "sns.set(font_scale=1.2)\n",
    "plt.rcParams['figure.figsize'] = (18, 9)\n",
    "fig = plt.figure()\n",
    "ax = Axes3D(fig)\n",
    "ax.scatter(dataset1[cols].iloc[:,0].values, dataset1[cols].iloc[:,4].values,dataset1[cols].iloc[:,5].values,cmap='rainbow')\n",
    "ax.scatter(outliers_if[cols].iloc[:,0].values,outliers_if[cols].iloc[:,4].values,outliers_if[cols].iloc[:,5].values,cmap='rainbow')\n",
    "ax.set_title('ISOLATION FOREST')\n",
    "ax.set_xlabel('ingres')\n",
    "ax.set_ylabel('AniosDireccion')\n",
    "ax.set_zlabel('Aniosresiden')"
   ]
  },
  {
   "cell_type": "code",
   "execution_count": null,
   "metadata": {
    "colab": {
     "base_uri": "https://localhost:8080/",
     "height": 0
    },
    "executionInfo": {
     "elapsed": 1494,
     "status": "ok",
     "timestamp": 1648447955233,
     "user": {
      "displayName": "Jacqueline Elizabeth Castro Falcon",
      "photoUrl": "https://lh3.googleusercontent.com/a/default-user=s64",
      "userId": "17847060216481912400"
     },
     "user_tz": 300
    },
    "id": "VfK-WDiMOV4u",
    "outputId": "67be381d-0293-4288-ff42-447dad8a67d6"
   },
   "outputs": [],
   "source": [
    "scaler = StandardScaler()\n",
    "scaler = scaler.fit(dataset1[cols])\n",
    "estandarizar = scaler.transform(dataset1[cols])\n",
    "estandarizar = pd.DataFrame(estandarizar,columns=list(dataset1[cols].columns))\n",
    "estandarizar1 = estandarizar.copy()\n",
    "\n",
    "lof = LocalOutlierFactor(n_neighbors=5, contamination=0.01)\n",
    "\n",
    "y_pred_lf = lof.fit_predict(estandarizar1)\n",
    "\n",
    "estandarizar1['anomaly']=y_pred_lf\n",
    "outliers_lf=estandarizar1.loc[estandarizar1['anomaly']==-1]\n",
    "outlier_lf_index=list(outliers_lf.index)\n",
    "\n",
    "\n",
    "print(estandarizar1['anomaly'].value_counts()) \n",
    "\n",
    "\n",
    "sns.set(font_scale=1.2)\n",
    "plt.rcParams['figure.figsize'] = (18, 9)\n",
    "fig1 = plt.figure()\n",
    "ax1 = Axes3D(fig1)\n",
    "ax1.scatter(estandarizar1.iloc[:,0].values, estandarizar1.iloc[:,1].values,estandarizar1.iloc[:,2].values,cmap='rainbow')\n",
    "ax1.scatter(outliers_lf.iloc[:,0].values,outliers_lf.iloc[:,1].values,outliers_lf.iloc[:,2].values,cmap='rainbow')\n",
    "ax1.set_title('LOCAL OULIER FACTOR')\n",
    "ax1.set_xlabel('ingres')\n",
    "ax1.set_ylabel('Gastocoche')\n",
    "ax1.set_zlabel('Aniosempleo')\n",
    "plt.show()\n",
    "\n",
    "sns.set(font_scale=1.2)\n",
    "plt.rcParams['figure.figsize'] = (18, 9)\n",
    "fig1 = plt.figure()\n",
    "ax1 = Axes3D(fig1)\n",
    "ax1.scatter(estandarizar1.iloc[:,0].values, estandarizar1.iloc[:,1].values,estandarizar1.iloc[:,2].values,cmap='rainbow')\n",
    "ax1.scatter(outliers_lf.iloc[:,0].values,outliers_lf.iloc[:,3].values,outliers_lf.iloc[:,4].values,cmap='rainbow')\n",
    "ax1.set_title('LOCAL OULIER FACTOR')\n",
    "ax1.set_xlabel('ingres')\n",
    "ax1.set_ylabel('edad')\n",
    "ax1.set_zlabel('AniosDireccion')\n",
    "plt.show()"
   ]
  },
  {
   "cell_type": "markdown",
   "metadata": {
    "id": "zAJPVWQkPsoe"
   },
   "source": [
    "\n",
    "###**Respuesta: ** De acuerdo a las gráficas, es conveniente quitar los outliers que han sido detectados de agrupando todas las variables con el método de Isolated Forest, tambien se generaron 2 dataset:  dataset_sinOutliers y dataset1_sinOutliers_vr2, donde el 1ero se obtuvo quitando outliers luego de evaluar todas las variables con el metodo isolated forest, y el 2do dataset se generó primero retirando los outliers tomando encuenta solo las variables: cols = ['ingres','Gastocoche','Aniosempleo'] y luego evaluando nuevamente para las variables: ['ingres','edad','AniosDireccion'] , se evaluará para ambos dataset todos los modelos siguientes: \n"
   ]
  },
  {
   "cell_type": "code",
   "execution_count": 14,
   "metadata": {
    "colab": {
     "base_uri": "https://localhost:8080/"
    },
    "executionInfo": {
     "elapsed": 6,
     "status": "ok",
     "timestamp": 1648447955233,
     "user": {
      "displayName": "Jacqueline Elizabeth Castro Falcon",
      "photoUrl": "https://lh3.googleusercontent.com/a/default-user=s64",
      "userId": "17847060216481912400"
     },
     "user_tz": 300
    },
    "id": "m1RMdIxwVKnA",
    "outputId": "953e25eb-8ff0-4ca4-c542-613253d4abc3"
   },
   "outputs": [
    {
     "name": "stdout",
     "output_type": "stream",
     "text": [
      "<class 'pandas.core.frame.DataFrame'>\n",
      "Int64Index: 5120 entries, 4172 to 4959\n",
      "Data columns (total 7 columns):\n",
      " #   Column          Non-Null Count  Dtype  \n",
      "---  ------          --------------  -----  \n",
      " 0   edad            5120 non-null   int64  \n",
      " 1   AniosDireccion  5120 non-null   int64  \n",
      " 2   Gastocoche      5120 non-null   float64\n",
      " 3   Aniosempleo     5120 non-null   int64  \n",
      " 4   Aniosresiden    5120 non-null   int64  \n",
      " 5   ingres          5120 non-null   int64  \n",
      " 6   anomaly         5120 non-null   int32  \n",
      "dtypes: float64(1), int32(1), int64(5)\n",
      "memory usage: 300.0 KB\n",
      "<class 'pandas.core.frame.DataFrame'>\n",
      "Int64Index: 4966 entries, 4172 to 4959\n",
      "Data columns (total 6 columns):\n",
      " #   Column          Non-Null Count  Dtype  \n",
      "---  ------          --------------  -----  \n",
      " 0   edad            4966 non-null   int64  \n",
      " 1   AniosDireccion  4966 non-null   int64  \n",
      " 2   Gastocoche      4966 non-null   float64\n",
      " 3   Aniosempleo     4966 non-null   int64  \n",
      " 4   Aniosresiden    4966 non-null   int64  \n",
      " 5   ingres          4966 non-null   int64  \n",
      "dtypes: float64(1), int64(5)\n",
      "memory usage: 271.6 KB\n"
     ]
    }
   ],
   "source": [
    "dataset1_sinOutliers_vr2=dataset1_filtro1.loc[dataset1_filtro1['anomaly_2']==1].drop(['anomaly_2'], axis=1)\n",
    "dataset1.info()\n",
    "dataset1_sinOutliers_vr2.info()"
   ]
  },
  {
   "cell_type": "code",
   "execution_count": null,
   "metadata": {
    "colab": {
     "base_uri": "https://localhost:8080/"
    },
    "executionInfo": {
     "elapsed": 4,
     "status": "ok",
     "timestamp": 1648447955233,
     "user": {
      "displayName": "Jacqueline Elizabeth Castro Falcon",
      "photoUrl": "https://lh3.googleusercontent.com/a/default-user=s64",
      "userId": "17847060216481912400"
     },
     "user_tz": 300
    },
    "id": "AjUlqMINWmw5",
    "outputId": "f0d73766-16cb-4567-d178-ffc5b000cec4"
   },
   "outputs": [],
   "source": [
    "dataset_sinOutliers=dataset1.loc[dataset1['anomaly_3']==1].drop(['anomaly_3', 'anomaly'], axis=1)\n",
    "dataset_sinOutliers.head()\n",
    "dataset_sinOutliers.info()\n",
    "\n"
   ]
  },
  {
   "cell_type": "code",
   "execution_count": 15,
   "metadata": {
    "colab": {
     "base_uri": "https://localhost:8080/"
    },
    "executionInfo": {
     "elapsed": 3,
     "status": "ok",
     "timestamp": 1648447955233,
     "user": {
      "displayName": "Jacqueline Elizabeth Castro Falcon",
      "photoUrl": "https://lh3.googleusercontent.com/a/default-user=s64",
      "userId": "17847060216481912400"
     },
     "user_tz": 300
    },
    "id": "MUOTDN4teObO",
    "outputId": "2bae5bc0-f92b-4194-bf07-7cf6021d772a"
   },
   "outputs": [
    {
     "name": "stdout",
     "output_type": "stream",
     "text": [
      " 1    5068\n",
      "-1      52\n",
      "Name: anomaly, dtype: int64\n",
      " 1    4966\n",
      "-1     102\n",
      "Name: anomaly_2, dtype: int64\n"
     ]
    }
   ],
   "source": [
    "print(dataset1['anomaly'].value_counts())\n",
    "\n",
    "\n",
    "print(dataset1_filtro1['anomaly_2'].value_counts())\n"
   ]
  },
  {
   "cell_type": "markdown",
   "metadata": {
    "id": "zEMnrirhZljk"
   },
   "source": [
    "### Pregunta 6: Aplicar el modelo regresión lineal múltiple, para ello como el dataset no es una información con temporalidad por ello se  puede aplicar la partición train_test_split (testear con un 20%) y luego interpretar los coeficientes de dichas variables, por último, ver el resultado de el test la métrica de RSME e interpretarlo. \n",
    "\n",
    "\n",
    "**Respuesta: Se generaron 2 dataset mencionados anteriormente, a evaluar los modelos generados vemos que el primer dataset tiene mejor performance, al graficar el y_Test vs y_predict vemos que para valores menores a 200 predice bastante bien, sin embargo cuando empieza aumentar de este valor, el modelo no realiza una predicción correcta.**\n"
   ]
  },
  {
   "cell_type": "code",
   "execution_count": 16,
   "metadata": {
    "colab": {
     "base_uri": "https://localhost:8080/"
    },
    "executionInfo": {
     "elapsed": 463,
     "status": "ok",
     "timestamp": 1648447955693,
     "user": {
      "displayName": "Jacqueline Elizabeth Castro Falcon",
      "photoUrl": "https://lh3.googleusercontent.com/a/default-user=s64",
      "userId": "17847060216481912400"
     },
     "user_tz": 300
    },
    "id": "HZHK-DpRZ6VR",
    "outputId": "3c2b629e-5e34-4409-ff17-6a444040bbec"
   },
   "outputs": [
    {
     "ename": "NameError",
     "evalue": "name 'LinearRegression' is not defined",
     "output_type": "error",
     "traceback": [
      "\u001b[1;31m---------------------------------------------------------------------------\u001b[0m",
      "\u001b[1;31mNameError\u001b[0m                                 Traceback (most recent call last)",
      "Input \u001b[1;32mIn [16]\u001b[0m, in \u001b[0;36m<cell line: 12>\u001b[1;34m()\u001b[0m\n\u001b[0;32m      6\u001b[0m y_train_2 \u001b[38;5;241m=\u001b[39m dataset1_sinOutliers_vr2[[\u001b[38;5;124m'\u001b[39m\u001b[38;5;124mingres\u001b[39m\u001b[38;5;124m'\u001b[39m]]\n\u001b[0;32m      8\u001b[0m \u001b[38;5;66;03m##lm_1 = LinearRegression()\u001b[39;00m\n\u001b[0;32m      9\u001b[0m \u001b[38;5;66;03m##lm_1.fit(X_train_1,y_train_1)\u001b[39;00m\n\u001b[1;32m---> 12\u001b[0m lm_2 \u001b[38;5;241m=\u001b[39m \u001b[43mLinearRegression\u001b[49m()\n\u001b[0;32m     13\u001b[0m lm_2\u001b[38;5;241m.\u001b[39mfit(X_train_2,y_train_2)\n",
      "\u001b[1;31mNameError\u001b[0m: name 'LinearRegression' is not defined"
     ]
    }
   ],
   "source": [
    "\n",
    "##X_train_1 = dataset_sinOutliers.drop(['ingres'], axis=1)\n",
    "##y_train_1 = dataset_sinOutliers[['ingres']]\n",
    "\n",
    "\n",
    "X_train_2 = dataset1_sinOutliers_vr2.drop(['ingres'], axis=1)\n",
    "y_train_2 = dataset1_sinOutliers_vr2[['ingres']]\n",
    "\n",
    "##lm_1 = LinearRegression()\n",
    "##lm_1.fit(X_train_1,y_train_1)\n",
    "\n",
    "\n",
    "lm_2 = LinearRegression()\n",
    "lm_2.fit(X_train_2,y_train_2)"
   ]
  },
  {
   "cell_type": "code",
   "execution_count": null,
   "metadata": {
    "executionInfo": {
     "elapsed": 13,
     "status": "ok",
     "timestamp": 1648447955694,
     "user": {
      "displayName": "Jacqueline Elizabeth Castro Falcon",
      "photoUrl": "https://lh3.googleusercontent.com/a/default-user=s64",
      "userId": "17847060216481912400"
     },
     "user_tz": 300
    },
    "id": "EKjsVphFbSNI"
   },
   "outputs": [],
   "source": [
    "def mean_absolute_percentage_error(y_true, y_pred):\n",
    "    y_true, y_pred = np.array(y_true), np.array(y_pred)\n",
    "    return np.mean(np.abs(y_true - y_pred) / y_true) * 100"
   ]
  },
  {
   "cell_type": "code",
   "execution_count": null,
   "metadata": {
    "colab": {
     "base_uri": "https://localhost:8080/",
     "height": 0
    },
    "executionInfo": {
     "elapsed": 12,
     "status": "ok",
     "timestamp": 1648447955694,
     "user": {
      "displayName": "Jacqueline Elizabeth Castro Falcon",
      "photoUrl": "https://lh3.googleusercontent.com/a/default-user=s64",
      "userId": "17847060216481912400"
     },
     "user_tz": 300
    },
    "id": "LIUMHw2TcLP1",
    "outputId": "3d8af6a2-ef96-4682-db82-82507ba9dfe4"
   },
   "outputs": [],
   "source": [
    "X_train_2.head()\n",
    "#X_train_1.head()"
   ]
  },
  {
   "cell_type": "code",
   "execution_count": null,
   "metadata": {
    "colab": {
     "base_uri": "https://localhost:8080/"
    },
    "executionInfo": {
     "elapsed": 7,
     "status": "ok",
     "timestamp": 1648447955694,
     "user": {
      "displayName": "Jacqueline Elizabeth Castro Falcon",
      "photoUrl": "https://lh3.googleusercontent.com/a/default-user=s64",
      "userId": "17847060216481912400"
     },
     "user_tz": 300
    },
    "id": "zKG4FeQCbSjn",
    "outputId": "aef45def-a8b5-48c2-bee1-451766c22a1e"
   },
   "outputs": [],
   "source": [
    "#predicciones\n",
    "predictions_lr_1 = lm_1.predict(X_test)\n",
    "\n",
    "print('MAE:', metrics.mean_absolute_error(y_test, predictions_lr_1))\n",
    "print('MSE:', metrics.mean_squared_error(y_test, predictions_lr_1))\n",
    "print('RMSE:', np.sqrt(metrics.mean_squared_error(y_test, predictions_lr_1)))\n",
    "print('MAPE:', mean_absolute_percentage_error(y_test, predictions_lr_1))\n",
    "\n",
    "\n",
    "#predicciones\n",
    "predictions_lr_2 = lm_2.predict(X_test)\n",
    "\n",
    "print('MAE:', metrics.mean_absolute_error(y_test, predictions_lr_2))\n",
    "print('MSE:', metrics.mean_squared_error(y_test, predictions_lr_2))\n",
    "print('RMSE:', np.sqrt(metrics.mean_squared_error(y_test, predictions_lr_2)))\n",
    "print('MAPE:', mean_absolute_percentage_error(y_test, predictions_lr_2))"
   ]
  },
  {
   "cell_type": "code",
   "execution_count": null,
   "metadata": {
    "colab": {
     "base_uri": "https://localhost:8080/",
     "height": 0
    },
    "executionInfo": {
     "elapsed": 1133,
     "status": "ok",
     "timestamp": 1648447956821,
     "user": {
      "displayName": "Jacqueline Elizabeth Castro Falcon",
      "photoUrl": "https://lh3.googleusercontent.com/a/default-user=s64",
      "userId": "17847060216481912400"
     },
     "user_tz": 300
    },
    "id": "-gW6-1S9jV5k",
    "outputId": "73c155c7-927e-4dfa-ca45-792343abceca"
   },
   "outputs": [],
   "source": [
    "plt.scatter(y_test,predictions_lr_1)\n",
    "plt.xlabel('Y Test')\n",
    "plt.ylabel('Predicted Y')\n",
    "plt.show()\n",
    "plt.scatter(y_test,predictions_lr_2)\n",
    "plt.xlabel('Y Test')\n",
    "plt.ylabel('Predicted Y')\n",
    "plt.show()\n",
    "\n"
   ]
  },
  {
   "cell_type": "markdown",
   "metadata": {
    "id": "7iGkOKsk_cs3"
   },
   "source": [
    "### Pregunta 7: Aplicar 3 diferentes tipos de modelos regresión que se hizo en clase de acuerdo a su criterio, luego la partición use la misma de la pregunta 6. Y por último compare cual de ellos tienes el RSME más bajo para determinar cual fue el mejor modelo con el que se quedó.\n",
    "\n",
    "\n",
    "**Respuesta: EL modelo con menor RSME es el modelo Polinomial.  **\n",
    "\n",
    " ****\n",
    " \n"
   ]
  },
  {
   "cell_type": "code",
   "execution_count": null,
   "metadata": {
    "executionInfo": {
     "elapsed": 12,
     "status": "ok",
     "timestamp": 1648447956821,
     "user": {
      "displayName": "Jacqueline Elizabeth Castro Falcon",
      "photoUrl": "https://lh3.googleusercontent.com/a/default-user=s64",
      "userId": "17847060216481912400"
     },
     "user_tz": 300
    },
    "id": "pr8RHEVRAwvo"
   },
   "outputs": [],
   "source": [
    "# para los MLG, se deben importar:\n",
    "import statsmodels.api as sm\n",
    "import statsmodels.formula.api as smf"
   ]
  },
  {
   "cell_type": "code",
   "execution_count": null,
   "metadata": {
    "colab": {
     "base_uri": "https://localhost:8080/"
    },
    "executionInfo": {
     "elapsed": 11,
     "status": "ok",
     "timestamp": 1648447956821,
     "user": {
      "displayName": "Jacqueline Elizabeth Castro Falcon",
      "photoUrl": "https://lh3.googleusercontent.com/a/default-user=s64",
      "userId": "17847060216481912400"
     },
     "user_tz": 300
    },
    "id": "8EF5YGrcAzPW",
    "outputId": "0e44f7d1-bcc5-4ad6-a2f1-3dddcef3760a"
   },
   "outputs": [],
   "source": [
    "# Load modules and data\n",
    "import statsmodels.api as sm\n",
    "\n",
    "data = pd.concat([X_train_1,y_train_1],axis=1)\n",
    "\n",
    "# Instantiate a gamma family model with the default link function.\n",
    "poisson_model = sm.GLM(y_train_1, X_train_1, family=sm.families.Poisson())\n",
    "\n",
    "poisson_results = poisson_model.fit()\n",
    "print(poisson_results.summary())"
   ]
  },
  {
   "cell_type": "code",
   "execution_count": null,
   "metadata": {
    "colab": {
     "base_uri": "https://localhost:8080/"
    },
    "executionInfo": {
     "elapsed": 7,
     "status": "ok",
     "timestamp": 1648447956821,
     "user": {
      "displayName": "Jacqueline Elizabeth Castro Falcon",
      "photoUrl": "https://lh3.googleusercontent.com/a/default-user=s64",
      "userId": "17847060216481912400"
     },
     "user_tz": 300
    },
    "id": "gYL3JncdA-KU",
    "outputId": "42d2a419-3c71-4d40-a742-a91dfc997b0f"
   },
   "outputs": [],
   "source": [
    "#predicciones\n",
    "predictions_poisson = poisson_results.predict(X_test)\n",
    "\n",
    "print('MAE:', metrics.mean_absolute_error(y_test, predictions_poisson))\n",
    "print('MSE:', metrics.mean_squared_error(y_test, predictions_poisson))\n",
    "print('RMSE:', np.sqrt(metrics.mean_squared_error(y_test, predictions_poisson)))\n",
    "print('MAPE:', mean_absolute_percentage_error(y_test, predictions_poisson))"
   ]
  },
  {
   "cell_type": "code",
   "execution_count": null,
   "metadata": {
    "colab": {
     "base_uri": "https://localhost:8080/"
    },
    "executionInfo": {
     "elapsed": 429,
     "status": "ok",
     "timestamp": 1648447957248,
     "user": {
      "displayName": "Jacqueline Elizabeth Castro Falcon",
      "photoUrl": "https://lh3.googleusercontent.com/a/default-user=s64",
      "userId": "17847060216481912400"
     },
     "user_tz": 300
    },
    "id": "tPMKHD-mBo5G",
    "outputId": "cc4a60bb-a690-4081-eb4a-4013e8c8fecc"
   },
   "outputs": [],
   "source": [
    "from sklearn import linear_model\n",
    "reg = linear_model.BayesianRidge()\n",
    "reg.fit(X_train_1, y_train_1)"
   ]
  },
  {
   "cell_type": "code",
   "execution_count": null,
   "metadata": {
    "executionInfo": {
     "elapsed": 13,
     "status": "ok",
     "timestamp": 1648447957249,
     "user": {
      "displayName": "Jacqueline Elizabeth Castro Falcon",
      "photoUrl": "https://lh3.googleusercontent.com/a/default-user=s64",
      "userId": "17847060216481912400"
     },
     "user_tz": 300
    },
    "id": "6_NThj6FBqu-"
   },
   "outputs": [],
   "source": [
    "#predicciones\n",
    "predictions_baye = reg.predict(X_test)"
   ]
  },
  {
   "cell_type": "code",
   "execution_count": null,
   "metadata": {
    "colab": {
     "base_uri": "https://localhost:8080/"
    },
    "executionInfo": {
     "elapsed": 12,
     "status": "ok",
     "timestamp": 1648447957249,
     "user": {
      "displayName": "Jacqueline Elizabeth Castro Falcon",
      "photoUrl": "https://lh3.googleusercontent.com/a/default-user=s64",
      "userId": "17847060216481912400"
     },
     "user_tz": 300
    },
    "id": "vs6n6kueBy5E",
    "outputId": "3d876a11-3c66-4d1b-e2f5-5a75e1f8d687"
   },
   "outputs": [],
   "source": [
    "print('MAE:', metrics.mean_absolute_error(y_test, predictions_baye))\n",
    "print('MSE:', metrics.mean_squared_error(y_test, predictions_baye))\n",
    "print('RMSE:', np.sqrt(metrics.mean_squared_error(y_test, predictions_baye)))\n",
    "print('MAPE:', mean_absolute_percentage_error(y_test, predictions_baye))"
   ]
  },
  {
   "cell_type": "code",
   "execution_count": null,
   "metadata": {
    "colab": {
     "base_uri": "https://localhost:8080/"
    },
    "executionInfo": {
     "elapsed": 10,
     "status": "ok",
     "timestamp": 1648447957249,
     "user": {
      "displayName": "Jacqueline Elizabeth Castro Falcon",
      "photoUrl": "https://lh3.googleusercontent.com/a/default-user=s64",
      "userId": "17847060216481912400"
     },
     "user_tz": 300
    },
    "id": "QVrumle3B2CL",
    "outputId": "996c8b6d-9529-45cf-d671-3a11e5aadee5"
   },
   "outputs": [],
   "source": [
    "# Fitting Polynomial Regression to the dataset\n",
    "from sklearn.preprocessing import PolynomialFeatures\n",
    "poly_reg = PolynomialFeatures(degree=3)\n",
    "X_train_poly = poly_reg.fit_transform(X_train_1)\n",
    "X_test_poly = poly_reg.fit_transform(X_test)\n",
    "pol_reg = LinearRegression()\n",
    "pol_reg.fit(X_train_poly, y_train_1)"
   ]
  },
  {
   "cell_type": "code",
   "execution_count": null,
   "metadata": {
    "colab": {
     "base_uri": "https://localhost:8080/"
    },
    "executionInfo": {
     "elapsed": 8,
     "status": "ok",
     "timestamp": 1648447957250,
     "user": {
      "displayName": "Jacqueline Elizabeth Castro Falcon",
      "photoUrl": "https://lh3.googleusercontent.com/a/default-user=s64",
      "userId": "17847060216481912400"
     },
     "user_tz": 300
    },
    "id": "OeHljby7B7Xu",
    "outputId": "15cee39e-1ca2-44e9-b9a2-3d97b1f995b0"
   },
   "outputs": [],
   "source": [
    "predictions_poli = pol_reg.predict(X_test_poly)\n",
    "\n",
    "print('MAE:', metrics.mean_absolute_error(y_test, predictions_poli))\n",
    "print('MSE:', metrics.mean_squared_error(y_test, predictions_poli))\n",
    "print('RMSE:', np.sqrt(metrics.mean_squared_error(y_test, predictions_poli)))\n",
    "print('MAPE:', mean_absolute_percentage_error(y_test, predictions_poli))"
   ]
  },
  {
   "cell_type": "code",
   "execution_count": null,
   "metadata": {
    "colab": {
     "base_uri": "https://localhost:8080/",
     "height": 561
    },
    "executionInfo": {
     "elapsed": 931,
     "status": "ok",
     "timestamp": 1648447958174,
     "user": {
      "displayName": "Jacqueline Elizabeth Castro Falcon",
      "photoUrl": "https://lh3.googleusercontent.com/a/default-user=s64",
      "userId": "17847060216481912400"
     },
     "user_tz": 300
    },
    "id": "3JyJqSEzJPGa",
    "outputId": "2be58b17-64dc-482c-e8c4-8cd8a0e60c40"
   },
   "outputs": [],
   "source": [
    "\n",
    "plt.scatter(y_test,predictions_poli)\n",
    "plt.xlabel('Y Test')\n",
    "plt.ylabel('Predicted Y')\n",
    "plt.show()\n"
   ]
  }
 ],
 "metadata": {
  "colab": {
   "authorship_tag": "ABX9TyMmQ5rXZQ3ib5bJ1T5/Fj/Q",
   "collapsed_sections": [
    "_X6yY4x9r72G",
    "GJiOYjOb0Va_",
    "zAJPVWQkPsoe",
    "zEMnrirhZljk"
   ],
   "name": "TrabajoFinalADS.ipynb",
   "provenance": []
  },
  "kernelspec": {
   "display_name": "Python 3 (ipykernel)",
   "language": "python",
   "name": "python3"
  },
  "language_info": {
   "codemirror_mode": {
    "name": "ipython",
    "version": 3
   },
   "file_extension": ".py",
   "mimetype": "text/x-python",
   "name": "python",
   "nbconvert_exporter": "python",
   "pygments_lexer": "ipython3",
   "version": "3.9.12"
  }
 },
 "nbformat": 4,
 "nbformat_minor": 1
}
