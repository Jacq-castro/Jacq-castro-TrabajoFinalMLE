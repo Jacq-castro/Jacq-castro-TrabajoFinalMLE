{
 "cells": [
  {
   "cell_type": "markdown",
   "id": "fb2c4196",
   "metadata": {},
   "source": [
    "### SCRIPT  2 eval_model"
   ]
  },
  {
   "cell_type": "code",
   "execution_count": 15,
   "id": "9457ff06",
   "metadata": {},
   "outputs": [],
   "source": [
    "import pandas as pd\n",
    "import pickle\n",
    "import os\n",
    "import numpy as np\n",
    "from sklearn.linear_model import LinearRegression\n",
    "\n",
    "#Metricas de evaluación\n",
    "from sklearn.metrics import mean_squared_error\n",
    "from sklearn import metrics\n",
    "from sklearn.metrics import r2_score\n"
   ]
  },
  {
   "cell_type": "code",
   "execution_count": 14,
   "id": "eef88c35",
   "metadata": {},
   "outputs": [],
   "source": [
    "def mean_absolute_percentage_error(y_true, y_pred):\n",
    "    y_true, y_pred = np.array(y_true), np.array(y_pred)\n",
    "    return np.mean(np.abs(y_true - y_pred) / y_true) * 100"
   ]
  },
  {
   "cell_type": "code",
   "execution_count": 16,
   "id": "c48debe7",
   "metadata": {},
   "outputs": [],
   "source": [
    "\n",
    "# Cargar la tabla transformada\n",
    "def eval_model(filename):\n",
    "    df = pd.read_csv(os.path.join('../data/raw', filename))\n",
    "    print(filename, ' cargado correctamente')\n",
    "    # Leemos el modelo entrenado para usarlo\n",
    "    package = '../models/best_model.pkl'\n",
    "    model = pickle.load(open(package, 'rb'))\n",
    "    print('Modelo importado correctamente')\n",
    "    # Predecimos sobre el set de datos de validación \n",
    "    X_test = df.drop(['ingres'],axis=1)\n",
    "    y_test = df[['ingres']]\n",
    "    y_pred_test=model.predict(X_test)\n",
    "    \n",
    "    \n",
    "    print('MAE:', metrics.mean_absolute_error(y_test, y_pred_test))\n",
    "    print('MSE:', metrics.mean_squared_error(y_test, y_pred_test))\n",
    "    print('RMSE:', np.sqrt(metrics.mean_squared_error(y_test, y_pred_test)))\n",
    "    print('MAPE:', mean_absolute_percentage_error(y_test, y_pred_test))\n"
   ]
  },
  {
   "cell_type": "code",
   "execution_count": null,
   "id": "7cbc1915",
   "metadata": {},
   "outputs": [],
   "source": []
  },
  {
   "cell_type": "code",
   "execution_count": 17,
   "id": "9887077c",
   "metadata": {},
   "outputs": [],
   "source": [
    "# Entrenamiento completo\n",
    "def main():\n",
    "    df = eval_model('data_train.csv')\n",
    "    print('Finalizó la validación del Modelo')"
   ]
  },
  {
   "cell_type": "code",
   "execution_count": 18,
   "id": "de28ad87",
   "metadata": {},
   "outputs": [
    {
     "name": "stdout",
     "output_type": "stream",
     "text": [
      "data_train.csv  cargado correctamente\n",
      "Modelo importado correctamente\n",
      "MAE: 14.31486703663547\n",
      "MSE: 455.32398842844907\n",
      "RMSE: 21.338322062159644\n",
      "MAPE: 27.35660307447446\n",
      "Finalizó la validación del Modelo\n"
     ]
    }
   ],
   "source": [
    "if __name__ == \"__main__\":\n",
    "    main()"
   ]
  }
 ],
 "metadata": {
  "kernelspec": {
   "display_name": "Python 3 (ipykernel)",
   "language": "python",
   "name": "python3"
  },
  "language_info": {
   "codemirror_mode": {
    "name": "ipython",
    "version": 3
   },
   "file_extension": ".py",
   "mimetype": "text/x-python",
   "name": "python",
   "nbconvert_exporter": "python",
   "pygments_lexer": "ipython3",
   "version": "3.9.12"
  }
 },
 "nbformat": 4,
 "nbformat_minor": 5
}
