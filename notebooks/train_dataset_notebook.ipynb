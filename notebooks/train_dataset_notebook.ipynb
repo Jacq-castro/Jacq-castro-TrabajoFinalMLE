{
 "cells": [
  {
   "cell_type": "markdown",
   "id": "fb2c4196",
   "metadata": {},
   "source": [
    "### SCRIPT  2 train_model"
   ]
  },
  {
   "cell_type": "code",
   "execution_count": 2,
   "id": "9457ff06",
   "metadata": {},
   "outputs": [],
   "source": [
    "import pandas as pd\n",
    "import pickle\n",
    "import os\n",
    "from sklearn.linear_model import LinearRegression\n"
   ]
  },
  {
   "cell_type": "code",
   "execution_count": 3,
   "id": "c48debe7",
   "metadata": {},
   "outputs": [],
   "source": [
    "# Cargar la tabla transformada\n",
    "def read_file_csv(filename):\n",
    "    df = pd.read_csv(os.path.join('../data/raw', filename))\n",
    "    X_train = df.drop(['ingres'],axis=1)\n",
    "    y_train = df[['ingres']]\n",
    "    print(filename, ' cargado correctamente')\n",
    "    # Entrenamos el modelo \n",
    "    lm = LinearRegression()\n",
    "    lm.fit(X_train,y_train)\n",
    "    print('Modelo entrenado')\n",
    "    # Guardamos el modelo entrenado para usarlo en produccion\n",
    "    package = '../models/best_model.pkl'\n",
    "    pickle.dump(lm, open(package, 'wb'))\n",
    "    print('Modelo exportado correctamente en la carpeta models')"
   ]
  },
  {
   "cell_type": "code",
   "execution_count": 4,
   "id": "9887077c",
   "metadata": {},
   "outputs": [],
   "source": [
    "# Entrenamiento completo\n",
    "def main():\n",
    "    read_file_csv('data_test.csv')\n",
    "    print('Finalizó el entrenamiento del Modelo')"
   ]
  },
  {
   "cell_type": "code",
   "execution_count": 5,
   "id": "de28ad87",
   "metadata": {},
   "outputs": [
    {
     "name": "stdout",
     "output_type": "stream",
     "text": [
      "data_test.csv  cargado correctamente\n",
      "Modelo entrenado\n",
      "Modelo exportado correctamente en la carpeta models\n",
      "Finalizó el entrenamiento del Modelo\n"
     ]
    }
   ],
   "source": [
    "if __name__ == \"__main__\":\n",
    "    main()"
   ]
  }
 ],
 "metadata": {
  "kernelspec": {
   "display_name": "Python 3 (ipykernel)",
   "language": "python",
   "name": "python3"
  },
  "language_info": {
   "codemirror_mode": {
    "name": "ipython",
    "version": 3
   },
   "file_extension": ".py",
   "mimetype": "text/x-python",
   "name": "python",
   "nbconvert_exporter": "python",
   "pygments_lexer": "ipython3",
   "version": "3.9.12"
  }
 },
 "nbformat": 4,
 "nbformat_minor": 5
}
